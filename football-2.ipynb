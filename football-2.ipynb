{
 "cells": [
  {
   "cell_type": "code",
   "execution_count": 150,
   "metadata": {},
   "outputs": [],
   "source": [
    "#Creating Of Image By Python"
   ]
  },
  {
   "cell_type": "code",
   "execution_count": 154,
   "metadata": {},
   "outputs": [],
   "source": [
    "import numpy as np,cv2\n",
    "import pyttsx3\n",
    "# init function to get an engine instance for the speech synthesis \n",
    "engine = pyttsx3.init()\n",
    "  \n",
    "# say method on the engine that passing input text to be spoken\n",
    "engine.say('This block of code will create image')\n",
    "  \n",
    "# run and wait method, it processes the voice commands. \n",
    "engine.runAndWait()\n",
    "\n",
    "img=np.zeros((600,1000,3),dtype='uint8')\n",
    "abi[:]=[254,254,254]\n",
    "#Movemt of player of Team-RED denoted by \"R\"\n",
    "#Movemt of player of Team-BLUE denoted by \"B\"\n",
    "R=0\n",
    "B=0\n",
    "i=0\n",
    "g1=0\n",
    "g2=0\n",
    "while i<=8:\n",
    "    cv2.rectangle(img,(0,0),(1000,600),(2,121,53),thickness=-1)\n",
    "    cv2.rectangle(img,(50,40),(950,560),(255,255,255),thickness=2)\n",
    "    cv2.rectangle(img,(50,200),(80,400),(255,255,255),thickness=2)\n",
    "    cv2.rectangle(img,(920,200),(950,400),(255,255,255),thickness=2)\n",
    "    cv2.rectangle(img,(500,40),(950,560),(255,255,255),thickness=2)\n",
    "    cv2.rectangle(img,(50,150),(130,450),(255,255,255),thickness=2)\n",
    "    cv2.rectangle(img,(870,150),(950,450),(255,255,255),thickness=2)\n",
    "    cv2.rectangle(img,(30,250),(50,350),(255,255,255),thickness=2)\n",
    "    cv2.rectangle(img,(950,250),(970,350),(255,255,255),thickness=2)\n",
    "    cv2.circle(img,(500,300),100,[255,255,255],thickness=2)\n",
    "    cv2.circle(img,(500,300),3,[255,255,255],thickness=2)\n",
    "    cv2.ellipse(img,(50,40),(15,15),0,0,90,[255,255,255],2)\n",
    "    cv2.ellipse(img,(950,40),(15,15),0,90,180,[255,255,255],2)\n",
    "    cv2.ellipse(img,(50,560),(15,15),0,270,360,[255,255,255],2)\n",
    "    cv2.ellipse(img,(950,560),(15,15),0,180,270,[255,255,255],2)\n",
    "    cv2.ellipse(img,(130,300),(45,85),0,270,450,[255,255,255],2)\n",
    "    cv2.ellipse(img,(870,300),(45,85),0,270,90,[255,255,255],2)\n",
    "\n",
    "    #TEAM-RED PLAYER POSITIONS WITH RED COLOR\n",
    "    cv2.circle(img,(50+g1,300+g1-g2),5,[0,0,123],thickness=-1)\n",
    "    cv2.circle(img,(130+R,425),5,[0,0,255],thickness=-1)\n",
    "    cv2.circle(img,(130+R,175),5,[0,0,255],thickness=-1)\n",
    "    cv2.circle(img,(130+R,75),5,[0,0,255],thickness=-1)\n",
    "    cv2.circle(img,(130+R,500),5,[0,0,255],thickness=-1)\n",
    "    cv2.circle(img,(250+R,300),5,[0,0,255],thickness=-1)\n",
    "    cv2.circle(img,(350+R,150),5,[0,0,255],thickness=-1)\n",
    "    cv2.circle(img,(350+R,450),5,[0,0,255],thickness=-1)\n",
    "    cv2.circle(img,(450+R,300),5,[0,0,255],thickness=-1)\n",
    "    cv2.circle(img,(450+R,150),5,[0,0,255],thickness=-1)\n",
    "    cv2.circle(img,(450+R,450),5,[0,0,255],thickness=-1)\n",
    "    \n",
    "    #Team -B PLAYER POSITIONS WITH BLUE COLOR\n",
    "    cv2.circle(img,(950-g2,300-g2),5,[0,242,255],thickness=-1)\n",
    "    cv2.circle(img,(870-B,425),5,[255,0,0],thickness=-1)\n",
    "    cv2.circle(img,(870-B,175),5,[255,0,0],thickness=-1)\n",
    "    cv2.circle(img,(870-B,75),5,[255,0,0],thickness=-1)\n",
    "    cv2.circle(img,(870-B,500),5,[255,0,0],thickness=-1)\n",
    "    cv2.circle(img,(750-B,300),5,[255,0,0],thickness=-1)\n",
    "    cv2.circle(img,(650-B,150),5,[255,0,0],thickness=-1)\n",
    "    cv2.circle(img,(650-B,450),5,[255,0,0],thickness=-1)\n",
    "    cv2.circle(img,(550-B,300),5,[255,0,0],thickness=-1)\n",
    "    cv2.circle(img,(550-B,150),5,[255,0,0],thickness=-1)\n",
    "    cv2.circle(img,(550-B,450),5,[255,0,0],thickness=-1)\n",
    "    \n",
    "    \n",
    "    i=i+1\n",
    "    g1=g1+10\n",
    "    g2=g2+5\n",
    "    R=R+20\n",
    "    B=B+33\n",
    "    cv2.imshow('Football Ground',img)\n",
    "    cv2.waitKey(500)\n",
    "    cv2.destroyAllWindows()\n",
    "font = cv2.FONT_HERSHEY_SIMPLEX\n",
    "cv2.putText(img,'BLUE TEAM WIN',(50,300), font, 3.5,(255,0,0),2,cv2.LINE_AA)\n",
    "cv2.imshow('Football Ground',img)\n",
    "cv2.waitKey(1000)\n",
    "cv2.destroyAllWindows()\n",
    "\n"
   ]
  },
  {
   "cell_type": "code",
   "execution_count": 152,
   "metadata": {},
   "outputs": [],
   "source": [
    "#Swapping Of Images"
   ]
  },
  {
   "cell_type": "code",
   "execution_count": 155,
   "metadata": {},
   "outputs": [],
   "source": [
    "engine.say('This block of code will swapp image')\n",
    "engine.runAndWait()\n",
    "\n",
    "pic1=cv2.imread('kratos2.jpg')\n",
    "pic2=cv2.imread(\"eivor3.jpg\")\n",
    "cv2.imshow('eivo',pic2)\n",
    "cv2.imshow('kratos',pic1)\n",
    "cv2.waitKey(1000)\n",
    "cv2.destroyAllWindows()\n",
    "pic1_crop=pic1[32:274,140:382].copy()\n",
    "pic2_crop=pic2[12:254,140:382].copy()\n",
    "pic1[32:274,140:382]=pic2_crop\n",
    "pic2[12:254,140:382]=pic1_crop\n",
    "cv2.imshow('him',pic2)\n",
    "cv2.imshow('hi',pic1)\n",
    "cv2.waitKey(1000)\n",
    "cv2.destroyAllWindows()"
   ]
  },
  {
   "cell_type": "code",
   "execution_count": 106,
   "metadata": {},
   "outputs": [],
   "source": [
    "#Collage Of Images"
   ]
  },
  {
   "cell_type": "code",
   "execution_count": 156,
   "metadata": {},
   "outputs": [],
   "source": [
    "engine.say('This block of code will collage  two images')\n",
    "engine.runAndWait()\n",
    "photo1=cv2.imread('kratos2.jpg')\n",
    "photo2=cv2.imread('eivor3.jpg')\n",
    "cv2.imshow('eivor',photo2)\n",
    "cv2.imshow('kratos',photo1)\n",
    "cv2.waitKey(1000)\n",
    "cv2.destroyAllWindows()\n",
    "photo2=cv2.resize(photo2,(500,500))\n",
    "horizontal=np.hstack([photo1,photo2])\n",
    "cv2.imshow(\"Final Collage\",horizontal)\n",
    "cv2.waitKey(1000)\n",
    "cv2.destroyAllWindows()"
   ]
  },
  {
   "cell_type": "code",
   "execution_count": null,
   "metadata": {},
   "outputs": [],
   "source": []
  },
  {
   "cell_type": "code",
   "execution_count": null,
   "metadata": {},
   "outputs": [],
   "source": []
  },
  {
   "cell_type": "code",
   "execution_count": 137,
   "metadata": {},
   "outputs": [],
   "source": []
  },
  {
   "cell_type": "code",
   "execution_count": null,
   "metadata": {},
   "outputs": [],
   "source": []
  },
  {
   "cell_type": "code",
   "execution_count": 139,
   "metadata": {},
   "outputs": [],
   "source": []
  },
  {
   "cell_type": "code",
   "execution_count": 140,
   "metadata": {},
   "outputs": [],
   "source": []
  },
  {
   "cell_type": "code",
   "execution_count": null,
   "metadata": {},
   "outputs": [],
   "source": []
  }
 ],
 "metadata": {
  "kernelspec": {
   "display_name": "Python 3",
   "language": "python",
   "name": "python3"
  },
  "language_info": {
   "codemirror_mode": {
    "name": "ipython",
    "version": 3
   },
   "file_extension": ".py",
   "mimetype": "text/x-python",
   "name": "python",
   "nbconvert_exporter": "python",
   "pygments_lexer": "ipython3",
   "version": "3.8.3"
  }
 },
 "nbformat": 4,
 "nbformat_minor": 4
}
